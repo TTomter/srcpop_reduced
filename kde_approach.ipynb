{
 "cells": [
  {
   "cell_type": "code",
   "execution_count": 1,
   "id": "bed430ad-0f92-4ff4-b5c9-a7aac742cc08",
   "metadata": {
    "tags": []
   },
   "outputs": [
    {
     "data": {
      "text/markdown": [
       "# KDE approach  (DR4)"
      ],
      "text/plain": [
       "<pylib.ipynb_docgen.doc_formatter.<locals>.MimeBundleObject at 0x7f6ed9d029d0>"
      ]
     },
     "metadata": {},
     "output_type": "display_data"
    },
    {
     "data": {
      "text/markdown": [
       "<h5 style=\"text-align:right; margin-right:15px\"> 2024-07-04 14:09</h5>"
      ],
      "text/plain": [
       "<pylib.ipynb_docgen.doc_formatter.<locals>.MimeBundleObject at 0x7f6ed8c6f350>"
      ]
     },
     "metadata": {},
     "output_type": "display_data"
    },
    {
     "data": {
      "text/markdown": [
       "Not applying ML, so no class fits to generate prediction model. Instead we compute KDE probability density distributions\n",
       "for the ML trainers, which we then apply to the unID and bcu associations."
      ],
      "text/plain": [
       "<pylib.ipynb_docgen.doc_formatter.<locals>.MimeBundleObject at 0x7f6ed87ca1d0>"
      ]
     },
     "metadata": {},
     "output_type": "display_data"
    },
    {
     "data": {
      "text/html": [
       "<details open class=\"nbdoc-description\" >  <summary> Setup: </summary>  <div style=\"margin-left: 25px;\"><pre>Loaded Fermi 4FGL gll_psc_dr4.fit: 6659 entries<br>Remove 218 without valid r95 or variability or significance&gt;4<br>            -&gt; 6441 remain<br>Loaded Fermi 4FGL gll_psc_dr3.fit: 6659 entries<br>Apply DR3 LP values for all but 0 sources.<br></pre></div> </details>"
      ],
      "text/plain": [
       "<pylib.ipynb_docgen.doc_formatter.<locals>.MimeBundleObject at 0x7f6ed87ca6d0>"
      ]
     },
     "metadata": {},
     "output_type": "display_data"
    },
    {
     "data": {
      "text/markdown": [
       "### Data selection cut: \"0.15<Ep<4 & variability<25\""
      ],
      "text/plain": [
       "<pylib.ipynb_docgen.doc_formatter.<locals>.MimeBundleObject at 0x7f6ed87a76d0>"
      ]
     },
     "metadata": {},
     "output_type": "display_data"
    },
    {
     "data": {
      "text/html": [
       "<div style=\"margin-left: 25px\"><table border=\"1\" class=\"dataframe\">\n",
       "  <thead>\n",
       "    <tr style=\"text-align: right;\">\n",
       "      <th>association_class</th>\n",
       "      <th>blazar</th>\n",
       "      <th>pulsar</th>\n",
       "      <th>galaxy</th>\n",
       "      <th>Galactic</th>\n",
       "      <th>unID</th>\n",
       "    </tr>\n",
       "  </thead>\n",
       "  <tbody>\n",
       "    <tr>\n",
       "      <th>total</th>\n",
       "      <td>2235</td>\n",
       "      <td>290</td>\n",
       "      <td>79</td>\n",
       "      <td>214</td>\n",
       "      <td>3623</td>\n",
       "    </tr>\n",
       "    <tr>\n",
       "      <th>selected</th>\n",
       "      <td>320</td>\n",
       "      <td>280</td>\n",
       "      <td>26</td>\n",
       "      <td>159</td>\n",
       "      <td>1879</td>\n",
       "    </tr>\n",
       "    <tr>\n",
       "      <th>%</th>\n",
       "      <td>14</td>\n",
       "      <td>97</td>\n",
       "      <td>33</td>\n",
       "      <td>74</td>\n",
       "      <td>52</td>\n",
       "    </tr>\n",
       "  </tbody>\n",
       "</table></div>"
      ],
      "text/plain": [
       "<pylib.ipynb_docgen.doc_formatter.<locals>.MimeBundleObject at 0x7f6ed7e702d0>"
      ]
     },
     "metadata": {},
     "output_type": "display_data"
    },
    {
     "data": {
      "text/markdown": [
       "## Create KDE functions instead of ML training\n",
       "* Classes: psr, msp, blazar\n",
       "* Features: sqrt_d, log_epeak, diffuse \n",
       "\n",
       "Apply to unIDs + bcus"
      ],
      "text/plain": [
       "<pylib.ipynb_docgen.doc_formatter.<locals>.MimeBundleObject at 0x7f6ed7123650>"
      ]
     },
     "metadata": {},
     "output_type": "display_data"
    },
    {
     "ename": "NameError",
     "evalue": "name 'apply_kde' is not defined",
     "output_type": "error",
     "traceback": [
      "\u001b[0;31m---------------------------------------------------------------------------\u001b[0m",
      "\u001b[0;31mNameError\u001b[0m                                 Traceback (most recent call last)",
      "Cell \u001b[0;32mIn[1], line 3\u001b[0m\n\u001b[1;32m      1\u001b[0m get_ipython()\u001b[38;5;241m.\u001b[39mrun_line_magic(\u001b[38;5;124m'\u001b[39m\u001b[38;5;124mreset\u001b[39m\u001b[38;5;124m'\u001b[39m, \u001b[38;5;124m'\u001b[39m\u001b[38;5;124m-f\u001b[39m\u001b[38;5;124m'\u001b[39m)\n\u001b[1;32m      2\u001b[0m get_ipython()\u001b[38;5;241m.\u001b[39mrun_line_magic(\u001b[38;5;124m'\u001b[39m\u001b[38;5;124mrun\u001b[39m\u001b[38;5;124m'\u001b[39m, \u001b[38;5;124m'\u001b[39m\u001b[38;5;124mpylib/ml_fit dark\u001b[39m\u001b[38;5;124m'\u001b[39m)\n\u001b[0;32m----> 3\u001b[0m \u001b[38;5;28mself\u001b[39m, data \u001b[38;5;241m=\u001b[39m kde_setup()\n\u001b[1;32m      5\u001b[0m \u001b[38;5;28;01mfrom\u001b[39;00m \u001b[38;5;21;01mpylib\u001b[39;00m\u001b[38;5;21;01m.\u001b[39;00m\u001b[38;5;21;01mkde\u001b[39;00m \u001b[38;5;28;01mimport\u001b[39;00m FeatureSpace\n\u001b[1;32m      6\u001b[0m fs \u001b[38;5;241m=\u001b[39m FeatureSpace\u001b[38;5;241m.\u001b[39mrunit(data, dark_mode, \u001b[38;5;28mself\u001b[39m\u001b[38;5;241m.\u001b[39mpalette)\n",
      "File \u001b[0;32m~/Desktop/Files/srcpop/pylib/ml_fit.py:794\u001b[0m, in \u001b[0;36mkde_setup\u001b[0;34m(kde_vars, nc, cut, include_bcu)\u001b[0m\n\u001b[1;32m    786\u001b[0m add_classification_prob(\u001b[38;5;28mself\u001b[39m\u001b[38;5;241m.\u001b[39mdf)\n\u001b[1;32m    788\u001b[0m show(\u001b[38;5;124mf\u001b[39m\u001b[38;5;124m\"\"\"\u001b[39m\u001b[38;5;124m## Create KDE functions instead of ML training\u001b[39m\n\u001b[1;32m    789\u001b[0m \u001b[38;5;124m* Classes: \u001b[39m\u001b[38;5;132;01m{\u001b[39;00m\u001b[38;5;124m'\u001b[39m\u001b[38;5;124m, \u001b[39m\u001b[38;5;124m'\u001b[39m\u001b[38;5;241m.\u001b[39mjoin(\u001b[38;5;28mself\u001b[39m\u001b[38;5;241m.\u001b[39mtrainers\u001b[38;5;241m.\u001b[39mkeys())\u001b[38;5;132;01m}\u001b[39;00m\n\u001b[1;32m    790\u001b[0m \u001b[38;5;124m* Features: \u001b[39m\u001b[38;5;132;01m{\u001b[39;00m\u001b[38;5;124m'\u001b[39m\u001b[38;5;124m, \u001b[39m\u001b[38;5;124m'\u001b[39m\u001b[38;5;241m.\u001b[39mjoin(kde_vars)\u001b[38;5;132;01m}\u001b[39;00m\u001b[38;5;124m \u001b[39m\n\u001b[1;32m    791\u001b[0m \u001b[38;5;124m\u001b[39m\n\u001b[1;32m    792\u001b[0m \u001b[38;5;124mApply to unIDs \u001b[39m\u001b[38;5;132;01m{\u001b[39;00m\u001b[38;5;124m'\u001b[39m\u001b[38;5;124m+ bcus\u001b[39m\u001b[38;5;124m'\u001b[39m\u001b[38;5;250m \u001b[39m\u001b[38;5;28;01mif\u001b[39;00m\u001b[38;5;250m \u001b[39minclude_bcu\u001b[38;5;250m \u001b[39m\u001b[38;5;28;01melse\u001b[39;00m\u001b[38;5;250m \u001b[39m\u001b[38;5;124m'\u001b[39m\u001b[38;5;124m'\u001b[39m\u001b[38;5;132;01m}\u001b[39;00m\n\u001b[1;32m    793\u001b[0m \u001b[38;5;124m\u001b[39m\u001b[38;5;124m\"\"\"\u001b[39m)\n\u001b[0;32m--> 794\u001b[0m apply_kde(\u001b[38;5;28mself\u001b[39m, dfc, kde_vars)\n\u001b[1;32m    796\u001b[0m \u001b[38;5;28mself\u001b[39m\u001b[38;5;241m.\u001b[39mdf\u001b[38;5;241m.\u001b[39mto_csv((filename\u001b[38;5;241m:=\u001b[39m\u001b[38;5;124m'\u001b[39m\u001b[38;5;124mfiles/kde_data.csv\u001b[39m\u001b[38;5;124m'\u001b[39m))\n\u001b[1;32m    797\u001b[0m show(\u001b[38;5;124mf\u001b[39m\u001b[38;5;124m'\u001b[39m\u001b[38;5;124msaved KDE setup to `\u001b[39m\u001b[38;5;132;01m{\u001b[39;00mfilename\u001b[38;5;132;01m}\u001b[39;00m\u001b[38;5;124m`\u001b[39m\u001b[38;5;124m'\u001b[39m)\n",
      "\u001b[0;31mNameError\u001b[0m: name 'apply_kde' is not defined"
     ]
    }
   ],
   "source": [
    "%reset -f\n",
    "%run pylib/ml_fit dark\n",
    "self, data = kde_setup()\n",
    "\n",
    "from pylib.kde import FeatureSpace\n",
    "fs = FeatureSpace.runit(data, dark_mode, self.palette)\n"
   ]
  },
  {
   "cell_type": "code",
   "execution_count": null,
   "id": "0eb260e5-65a5-4e5c-bc8c-496d0485de58",
   "metadata": {},
   "outputs": [],
   "source": []
  }
 ],
 "metadata": {
  "kernelspec": {
   "display_name": "Python 3 (ipykernel)",
   "language": "python",
   "name": "python3"
  },
  "language_info": {
   "codemirror_mode": {
    "name": "ipython",
    "version": 3
   },
   "file_extension": ".py",
   "mimetype": "text/x-python",
   "name": "python",
   "nbconvert_exporter": "python",
   "pygments_lexer": "ipython3",
   "version": "3.11.5"
  }
 },
 "nbformat": 4,
 "nbformat_minor": 5
}
