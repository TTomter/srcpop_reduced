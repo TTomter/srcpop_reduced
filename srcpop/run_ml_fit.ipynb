{
 "cells": [
  {
   "cell_type": "code",
   "execution_count": 4,
   "id": "018d1dba-9263-4abf-ae8a-42a242cd2dea",
   "metadata": {
    "tags": []
   },
   "outputs": [
    {
     "data": {
      "text/markdown": [
       "# ML 3-class Classification with RFC Model"
      ],
      "text/plain": [
       "<pylib.ipynb_docgen.doc_formatter.<locals>.MimeBundleObject at 0x7f082e44d490>"
      ]
     },
     "metadata": {},
     "output_type": "display_data"
    },
    {
     "data": {
      "text/html": [
       "<details open class=\"nbdoc-description\" >  <summary> Setup: </summary>  <div style=\"margin-left: 25px;\"><pre>Loaded Fermi 4FGL gll_psc_dr4.fit: 6659 entries<br>Remove 218 without valid r95 or variability or significance&gt;4<br>            -&gt; 6441 remain<br>Loaded Fermi 4FGL gll_psc_dr3.fit: 6659 entries<br>Apply DR3 LP values for all but 0 sources.<br></pre></div> </details>"
      ],
      "text/plain": [
       "<pylib.ipynb_docgen.doc_formatter.<locals>.MimeBundleObject at 0x7f082cebdd50>"
      ]
     },
     "metadata": {},
     "output_type": "display_data"
    },
    {
     "data": {
      "text/markdown": [
       "MLfit applied to 4FGL-DR4 \n",
       "\n",
       "Scikit-learn specifications: \n",
       "* features: log_var, log_fpeak, log_epeak, sqrt_d\n",
       "* classes: pulsar, bll, fsrq\n",
       "* model: RandomForestClassifier(max_features=2)\n",
       "        "
      ],
      "text/plain": [
       "<pylib.ipynb_docgen.doc_formatter.<locals>.MimeBundleObject at 0x7f082cebd4d0>"
      ]
     },
     "metadata": {},
     "output_type": "display_data"
    },
    {
     "data": {
      "text/markdown": [
       "## Feature distributions "
      ],
      "text/plain": [
       "<pylib.ipynb_docgen.doc_formatter.<locals>.MimeBundleObject at 0x7f082cebe150>"
      ]
     },
     "metadata": {},
     "output_type": "display_data"
    },
    {
     "data": {
      "text/markdown": [
       "Expand the important pairs"
      ],
      "text/plain": [
       "<pylib.ipynb_docgen.doc_formatter.<locals>.MimeBundleObject at 0x7f082cebced0>"
      ]
     },
     "metadata": {},
     "output_type": "display_data"
    },
    {
     "data": {
      "text/markdown": [
       "## Train then apply prediction, add probs "
      ],
      "text/plain": [
       "<pylib.ipynb_docgen.doc_formatter.<locals>.MimeBundleObject at 0x7f082cebd750>"
      ]
     },
     "metadata": {},
     "output_type": "display_data"
    },
    {
     "data": {
      "text/markdown": [
       "### Accuraccy for pulsar/blazar separation\n",
       "A standard classification performance metric, the accuracy  \"ROC-AUC\", is described in \n",
       "Luo at al."
      ],
      "text/plain": [
       "<pylib.ipynb_docgen.doc_formatter.<locals>.MimeBundleObject at 0x7f082e58b390>"
      ]
     },
     "metadata": {},
     "output_type": "display_data"
    },
    {
     "data": {
      "text/markdown": [
       "With our model \"RandomForestClassifier\" we obtain (99.31$\\pm$ 0.04)%\n",
       "\n",
       "Compare this with \n",
       "     [Luo et al (2020)](https://academic.oup.com/mnras/article/492/4/5377/5709930), who achieved \n",
       "     (99.17$\\pm$ 0.17)% with three features, also with Random Forest."
      ],
      "text/plain": [
       "<pylib.ipynb_docgen.doc_formatter.<locals>.MimeBundleObject at 0x7f082cebf310>"
      ]
     },
     "metadata": {},
     "output_type": "display_data"
    },
    {
     "data": {
      "text/markdown": [
       "### All predictions"
      ],
      "text/plain": [
       "<pylib.ipynb_docgen.doc_formatter.<locals>.MimeBundleObject at 0x7f082cebc750>"
      ]
     },
     "metadata": {},
     "output_type": "display_data"
    },
    {
     "data": {
      "text/html": [
       "<div style=\"margin-left: 25px\"><table border=\"1\" class=\"dataframe\">\n",
       "  <thead>\n",
       "    <tr style=\"text-align: right;\">\n",
       "      <th>prediction</th>\n",
       "      <th>bll</th>\n",
       "      <th>fsrq</th>\n",
       "      <th>pulsar</th>\n",
       "    </tr>\n",
       "    <tr>\n",
       "      <th>class_group</th>\n",
       "      <th></th>\n",
       "      <th></th>\n",
       "      <th></th>\n",
       "    </tr>\n",
       "  </thead>\n",
       "  <tbody>\n",
       "    <tr>\n",
       "      <th>blazar</th>\n",
       "      <td>1450</td>\n",
       "      <td>785</td>\n",
       "      <td>0</td>\n",
       "    </tr>\n",
       "    <tr>\n",
       "      <th>pulsar</th>\n",
       "      <td>0</td>\n",
       "      <td>0</td>\n",
       "      <td>290</td>\n",
       "    </tr>\n",
       "    <tr>\n",
       "      <th>galaxy</th>\n",
       "      <td>50</td>\n",
       "      <td>25</td>\n",
       "      <td>4</td>\n",
       "    </tr>\n",
       "    <tr>\n",
       "      <th>Galactic</th>\n",
       "      <td>53</td>\n",
       "      <td>39</td>\n",
       "      <td>122</td>\n",
       "    </tr>\n",
       "    <tr>\n",
       "      <th>unID</th>\n",
       "      <td>1719</td>\n",
       "      <td>917</td>\n",
       "      <td>987</td>\n",
       "    </tr>\n",
       "  </tbody>\n",
       "</table></div>"
      ],
      "text/plain": [
       "<pylib.ipynb_docgen.doc_formatter.<locals>.MimeBundleObject at 0x7f082e595610>"
      ]
     },
     "metadata": {},
     "output_type": "display_data"
    },
    {
     "data": {
      "text/markdown": [
       "## The issue with this\n",
       "In figure 1.1, we show plots of the pulsar probability vs.  $E_p$ for the training classes, in \n",
       " the upper panel and for the unID in the lower, wich colors corresponding to the class prediction.\n",
       "\n",
       "The large number of unID sources with intermediate probabilites is inconsistent with\n",
       " a mixture of the two classes. "
      ],
      "text/plain": [
       "<pylib.ipynb_docgen.doc_formatter.<locals>.MimeBundleObject at 0x7f082e3c1590>"
      ]
     },
     "metadata": {},
     "output_type": "display_data"
    },
    {
     "name": "stdout",
     "output_type": "stream",
     "text": [
      "File `files/dr4_3_class_classification.csv` exists--not overwriting.\n"
     ]
    }
   ],
   "source": [
    "%run pylib/ml_fit\n",
    "self=doc(3,2)"
   ]
  },
  {
   "cell_type": "code",
   "execution_count": 5,
   "id": "91e58937-8c4b-4c98-a28f-e9690876413f",
   "metadata": {},
   "outputs": [],
   "source": [
    "%run pylib/gevatar_fits.py"
   ]
  }
 ],
 "metadata": {
  "kernelspec": {
   "display_name": "Python 3 (ipykernel)",
   "language": "python",
   "name": "python3"
  },
  "language_info": {
   "codemirror_mode": {
    "name": "ipython",
    "version": 3
   },
   "file_extension": ".py",
   "mimetype": "text/x-python",
   "name": "python",
   "nbconvert_exporter": "python",
   "pygments_lexer": "ipython3",
   "version": "3.11.5"
  }
 },
 "nbformat": 4,
 "nbformat_minor": 5
}
